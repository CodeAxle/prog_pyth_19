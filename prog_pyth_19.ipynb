{
 "cells": [
  {
   "cell_type": "markdown",
   "id": "d695b09f",
   "metadata": {},
   "source": [
    "# 1."
   ]
  },
  {
   "cell_type": "code",
   "execution_count": 1,
   "id": "6f97e23c",
   "metadata": {},
   "outputs": [
    {
     "name": "stdout",
     "output_type": "stream",
     "text": [
      "HHeelllloo  WWoorrlldd!!\n",
      "11223344!!__  \n"
     ]
    }
   ],
   "source": [
    "# code:\n",
    "def double_char(s):\n",
    "    # Use a generator expression to double each character in the string\n",
    "    return ''.join(c * 2 for c in s)\n",
    "\n",
    "# Test cases\n",
    "print(double_char(\"Hello World!\"))  # Output: \"HHeelllloo WWoorrlldd!!\"\n",
    "print(double_char(\"1234!_ \"))  # Output: \"11223344!!__  \""
   ]
  },
  {
   "cell_type": "markdown",
   "id": "ab71ec19",
   "metadata": {},
   "source": [
    "# 2."
   ]
  },
  {
   "cell_type": "code",
   "execution_count": 2,
   "id": "8cf40031",
   "metadata": {},
   "outputs": [
    {
     "name": "stdout",
     "output_type": "stream",
     "text": [
      "False\n",
      "True\n",
      "boolean expected\n",
      "boolean expected\n"
     ]
    }
   ],
   "source": [
    "# code:\n",
    "def reverse(b):\n",
    "    if isinstance(b, bool):\n",
    "        return not b\n",
    "    else:\n",
    "        return \"boolean expected\"\n",
    "\n",
    "# Test cases\n",
    "print(reverse(True))  # Output: False\n",
    "print(reverse(False))  # Output: True\n",
    "print(reverse(0))  # Output: \"boolean expected\"\n",
    "print(reverse(None))  # Output: \"boolean expected\""
   ]
  },
  {
   "cell_type": "markdown",
   "id": "0a9507f9",
   "metadata": {},
   "source": [
    "# 3."
   ]
  },
  {
   "cell_type": "code",
   "execution_count": 3,
   "id": "81ed589b",
   "metadata": {},
   "outputs": [
    {
     "name": "stdout",
     "output_type": "stream",
     "text": [
      "0.001m\n",
      "0.008m\n",
      "1048.576m\n"
     ]
    }
   ],
   "source": [
    "# code:\n",
    "def num_layers(n):\n",
    "    initial_thickness_mm = 0.5\n",
    "    initial_thickness_m = initial_thickness_mm / 1000  # Convert mm to meters\n",
    "    folded_thickness = initial_thickness_m * (2 ** n)\n",
    "    return f\"{folded_thickness:.3f}m\"\n",
    "\n",
    "# Test cases\n",
    "print(num_layers(1))  \n",
    "print(num_layers(4))  \n",
    "print(num_layers(21))  "
   ]
  },
  {
   "cell_type": "markdown",
   "id": "2dc095b2",
   "metadata": {},
   "source": [
    "# 4."
   ]
  },
  {
   "cell_type": "code",
   "execution_count": 4,
   "id": "515ff3de",
   "metadata": {},
   "outputs": [
    {
     "name": "stdout",
     "output_type": "stream",
     "text": [
      "[1, 3, 5]\n",
      "[0, 1, 2, 3, 4, 5]\n"
     ]
    }
   ],
   "source": [
    "# code:\n",
    "def index_of_caps(s):\n",
    "    return [i for i, char in enumerate(s) if char.isupper()]\n",
    "\n",
    "# Test cases\n",
    "print(index_of_caps(\"eDaBiT\"))  \n",
    "print(index_of_caps(\"STRIKE\")) "
   ]
  },
  {
   "cell_type": "markdown",
   "id": "7078fcd7",
   "metadata": {},
   "source": [
    "# 5."
   ]
  },
  {
   "cell_type": "code",
   "execution_count": 5,
   "id": "dd94684c",
   "metadata": {},
   "outputs": [
    {
     "name": "stdout",
     "output_type": "stream",
     "text": [
      "[2, 4, 6, 8, 10]\n"
     ]
    }
   ],
   "source": [
    "# code:\n",
    "def find_even_nums(n):\n",
    "    return [i for i in range(1, n + 1) if i % 2 == 0]\n",
    "\n",
    "# Test cases\n",
    "print(find_even_nums(10)) "
   ]
  },
  {
   "cell_type": "code",
   "execution_count": null,
   "id": "ca3cbcd9",
   "metadata": {},
   "outputs": [],
   "source": []
  }
 ],
 "metadata": {
  "kernelspec": {
   "display_name": "Python 3 (ipykernel)",
   "language": "python",
   "name": "python3"
  },
  "language_info": {
   "codemirror_mode": {
    "name": "ipython",
    "version": 3
   },
   "file_extension": ".py",
   "mimetype": "text/x-python",
   "name": "python",
   "nbconvert_exporter": "python",
   "pygments_lexer": "ipython3",
   "version": "3.11.5"
  }
 },
 "nbformat": 4,
 "nbformat_minor": 5
}
